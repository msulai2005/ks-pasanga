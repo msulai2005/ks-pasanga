{
 "cells": [
  {
   "cell_type": "code",
   "execution_count": 14,
   "id": "41441df9-e93f-486c-acd8-8b4ecc3b615e",
   "metadata": {},
   "outputs": [
    {
     "name": "stdout",
     "output_type": "stream",
     "text": [
      "{'start': ['A', 'B'], 'A': ['start', 'E', 'F'], 'B': ['start', 'D', 'C'], 'C': ['B'], 'D': ['B', 'goal'], 'E': ['B', 'G'], 'F': ['B'], 'G': ['E'], 'goal': ['E', 'F']}\n"
     ]
    }
   ],
   "source": [
    "graph={\n",
    "    'start':['A','B'],\n",
    "    'A':['start','E','F'],\n",
    "    'B':['start','D','C'],\n",
    "    'C':['B'],\n",
    "    'D':['B','goal'],\n",
    "    'E':['B','G'],\n",
    "    'F':['B'],\n",
    "    'G':['E'],\n",
    "    'goal':['E','F']\n",
    "}\n",
    "print(graph)"
   ]
  },
  {
   "cell_type": "code",
   "execution_count": 17,
   "id": "29eca3c8-0a60-4332-84ae-356124531356",
   "metadata": {},
   "outputs": [],
   "source": [
    "def dfs(graph,start,goal,visited):\n",
    "    stack=([start])\n",
    "    while stack:\n",
    "        node=stack.pop()\n",
    "        if node not in visited:\n",
    "            visited.append(node)\n",
    "            if node==goal:\n",
    "                print(visited)\n",
    "            for neighbors in graph[node]:\n",
    "                dfs(graph,neighbors,goal,visited)"
   ]
  },
  {
   "cell_type": "code",
   "execution_count": 18,
   "id": "c7649b06-5896-4dc3-85df-e52c5091e445",
   "metadata": {},
   "outputs": [
    {
     "name": "stdout",
     "output_type": "stream",
     "text": [
      "['A', 'start', 'B']\n"
     ]
    }
   ],
   "source": [
    "dfs(graph,'A','B',[])"
   ]
  }
 ],
 "metadata": {
  "kernelspec": {
   "display_name": "Python 3 (ipykernel)",
   "language": "python",
   "name": "python3"
  },
  "language_info": {
   "codemirror_mode": {
    "name": "ipython",
    "version": 3
   },
   "file_extension": ".py",
   "mimetype": "text/x-python",
   "name": "python",
   "nbconvert_exporter": "python",
   "pygments_lexer": "ipython3",
   "version": "3.10.13"
  }
 },
 "nbformat": 4,
 "nbformat_minor": 5
}
