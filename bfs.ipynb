{
 "cells": [
  {
   "cell_type": "code",
   "execution_count": 7,
   "id": "d8416db2-9568-455d-92b9-d25a03bc6484",
   "metadata": {},
   "outputs": [
    {
     "name": "stdout",
     "output_type": "stream",
     "text": [
      "{'start': ['A', 'B'], 'A': ['start', 'E', 'F'], 'B': ['start', 'D', 'C'], 'C': ['B'], 'D': ['B', 'goal'], 'E': ['B', 'G'], 'F': ['B'], 'G': ['E'], 'goal': ['E', 'F']}\n"
     ]
    }
   ],
   "source": [
    "graph={\n",
    "    'start':['A','B'],\n",
    "    'A':['start','E','F'],\n",
    "    'B':['start','D','C'],\n",
    "    'C':['B'],\n",
    "    'D':['B','goal'],\n",
    "    'E':['B','G'],\n",
    "    'F':['B'],\n",
    "    'G':['E'],\n",
    "    'goal':['E','F']\n",
    "}\n",
    "print(graph)"
   ]
  },
  {
   "cell_type": "markdown",
   "id": "9fa93aac-836d-4281-a480-a3b274b7dab2",
   "metadata": {},
   "source": [
    "handling queue in python "
   ]
  },
  {
   "cell_type": "code",
   "execution_count": 7,
   "id": "593a5088-960a-4cc7-976b-831439b892e7",
   "metadata": {},
   "outputs": [],
   "source": [
    "from collections import deque"
   ]
  },
  {
   "cell_type": "code",
   "execution_count": 16,
   "id": "bdd847e5-7fe8-4506-a1ef-e03f34f2910e",
   "metadata": {},
   "outputs": [
    {
     "name": "stdout",
     "output_type": "stream",
     "text": [
      "deque(['0', 'a', 'b', 'c', 'd', 'e'])\n",
      "deque(['0', 'a', 'b', 'c', 'd', 'e', '3'])\n",
      "deque(['a', 'b', 'c', 'd', 'e', '3'])\n",
      "deque(['a', 'b', 'c', 'd', 'e'])\n"
     ]
    }
   ],
   "source": [
    "q=deque([\"a\",\"b\",\"c\",\"d\",\"e\"])\n",
    "q.appendleft(\"0\")\n",
    "print(q)\n",
    "q.append(\"3\")\n",
    "print(q)\n",
    "q.popleft()\n",
    "print(q)\n",
    "q.pop()\n",
    "print(q)"
   ]
  },
  {
   "cell_type": "code",
   "execution_count": 17,
   "id": "e1cabb26-6e79-4f7b-94ba-0bc88b2baa2f",
   "metadata": {},
   "outputs": [],
   "source": [
    "from collections import deque\n",
    "def bfs(graph,start,goal):\n",
    "    visited=[]\n",
    "    queue=deque([start])\n",
    "    while queue:\n",
    "        node=queue.popleft()\n",
    "        if node not in visited:\n",
    "            visited.append(node)\n",
    "            print(\"i have visited:\",node)\n",
    "            neighbours=graph[node]\n",
    "            if node==goal:\n",
    "                return(\"i have reached the goal,this is my traversed path:\",node)\n",
    "            for neighbour in neighbours:\n",
    "                queue.append(neighbour)"
   ]
  },
  {
   "cell_type": "code",
   "execution_count": 18,
   "id": "4efcea18-f203-458a-8183-77f1642ac169",
   "metadata": {},
   "outputs": [
    {
     "name": "stdout",
     "output_type": "stream",
     "text": [
      "i have visited: start\n",
      "i have visited: A\n",
      "i have visited: B\n",
      "i have visited: E\n",
      "i have visited: F\n",
      "i have visited: D\n",
      "i have visited: C\n",
      "i have visited: G\n",
      "i have visited: goal\n"
     ]
    },
    {
     "data": {
      "text/plain": [
       "('i have reached the goal,this is my traversed path:', 'goal')"
      ]
     },
     "execution_count": 18,
     "metadata": {},
     "output_type": "execute_result"
    }
   ],
   "source": [
    "bfs(graph,'start','goal')"
   ]
  },
  {
   "cell_type": "code",
   "execution_count": null,
   "id": "8e683b30-cc79-4991-82a5-21014f18066c",
   "metadata": {},
   "outputs": [],
   "source": []
  }
 ],
 "metadata": {
  "kernelspec": {
   "display_name": "Python 3 (ipykernel)",
   "language": "python",
   "name": "python3"
  },
  "language_info": {
   "codemirror_mode": {
    "name": "ipython",
    "version": 3
   },
   "file_extension": ".py",
   "mimetype": "text/x-python",
   "name": "python",
   "nbconvert_exporter": "python",
   "pygments_lexer": "ipython3",
   "version": "3.10.13"
  }
 },
 "nbformat": 4,
 "nbformat_minor": 5
}
